{
 "cells": [
  {
   "cell_type": "code",
   "execution_count": 1,
   "id": "5ba50962",
   "metadata": {},
   "outputs": [],
   "source": [
    "import pandas as pd\n",
    "import numpy as np\n",
    "\n",
    "from sklearn.model_selection import train_test_split\n",
    "from sklearn.metrics import classification_report\n",
    "from sklearn.metrics import confusion_matrix\n",
    "\n",
    "from sklearn.linear_model import LogisticRegression\n",
    "\n",
    "from sklearn.model_selection import cross_val_score\n",
    "from sklearn.pipeline import make_pipeline\n",
    "from sklearn.preprocessing import StandardScaler"
   ]
  },
  {
   "cell_type": "code",
   "execution_count": 2,
   "id": "ae9e87fe",
   "metadata": {},
   "outputs": [],
   "source": [
    "df0718 = pd.read_csv(\"DataForNBAGameModel0718.csv\", index_col = 0)\n",
    "df0720 = pd.read_csv(\"DataForNBAGameModel0720.csv\", index_col = 0)"
   ]
  },
  {
   "cell_type": "code",
   "execution_count": 3,
   "id": "65de8cc2",
   "metadata": {},
   "outputs": [
    {
     "name": "stdout",
     "output_type": "stream",
     "text": [
      "Mean accuracy after 50 splits: 67.9% +/- 3.7%\n"
     ]
    }
   ],
   "source": [
    "#Create Model using 2007 to 2018 data\n",
    "\n",
    "#Split training/testing set\n",
    "X = df0718[[ 'Home_Team_B2B', 'Away_Team_B2B',\n",
    "       'Home_ORTG', 'Away_ORTG',\n",
    "       'Home_DRTG', 'Away_DRTG'\n",
    "       ]]\n",
    "y= df0718[\"Home_Win\"]\n",
    "X_train, X_test, y_train, y_test = train_test_split(X, y, test_size=0.33, random_state = 42)\n",
    "\n",
    "\n",
    "#Cross validate and output scores\n",
    "splits = 50\n",
    "pipeline = make_pipeline(StandardScaler(), LogisticRegression())\n",
    "scores = cross_val_score(pipeline, X = X_train, y = y_train, cv = splits, n_jobs = 1)\n",
    "print('Mean accuracy after ' + str(splits) + ' splits: %.1f' % (np.mean(scores)*100) +chr(37)+ ' +/- %.1f' % (np.std(scores)*100) + chr(37))"
   ]
  },
  {
   "cell_type": "code",
   "execution_count": 4,
   "id": "75aea397",
   "metadata": {},
   "outputs": [
    {
     "name": "stdout",
     "output_type": "stream",
     "text": [
      "Mean accuracy after 50 splits: 66.8% +/- 3.0%\n"
     ]
    }
   ],
   "source": [
    "#Create Model using 2007 to 2020 data\n",
    "\n",
    "#Split training/testing set\n",
    "X = df0720[[ 'Home_Team_B2B', 'Away_Team_B2B',\n",
    "       'Home_ORTG', 'Away_ORTG',\n",
    "       'Home_DRTG', 'Away_DRTG'\n",
    "       ]]\n",
    "y= df0720[\"Home_Win\"]\n",
    "X_train, X_test, y_train, y_test = train_test_split(X, y, test_size=0.33, random_state = 42)\n",
    "\n",
    "\n",
    "#Cross validate and output scores\n",
    "splits = 50\n",
    "pipeline = make_pipeline(StandardScaler(), LogisticRegression())\n",
    "scores = cross_val_score(pipeline, X = X_train, y = y_train, cv = splits, n_jobs = 1)\n",
    "print('Mean accuracy after ' + str(splits) + ' splits: %.1f' % (np.mean(scores)*100) +chr(37)+ ' +/- %.1f' % (np.std(scores)*100) + chr(37))"
   ]
  },
  {
   "cell_type": "code",
   "execution_count": 5,
   "id": "d69d014a",
   "metadata": {},
   "outputs": [
    {
     "name": "stdout",
     "output_type": "stream",
     "text": [
      "              precision    recall  f1-score   support\n",
      "\n",
      "           0       0.67      0.43      0.53       492\n",
      "           1       0.63      0.82      0.71       583\n",
      "\n",
      "    accuracy                           0.64      1075\n",
      "   macro avg       0.65      0.63      0.62      1075\n",
      "weighted avg       0.65      0.64      0.63      1075\n",
      "\n",
      "[[213 279]\n",
      " [105 478]]\n"
     ]
    }
   ],
   "source": [
    "#Test on 2021 Data set\n",
    "test2021 = pd.read_csv(\"2021GameLogsForModel.csv\", index_col = 0)\n",
    "\n",
    "\n",
    "#Create test data with 2021 data\n",
    "X_test = test2021[[ 'Home_Team_B2B', 'Away_Team_B2B',\n",
    "       'Home_ORTG', 'Away_ORTG',\n",
    "       'Home_DRTG', 'Away_DRTG',\n",
    "       ]]\n",
    "\n",
    "y_test = test2021[\"Home_Win\"]\n",
    "\n",
    "\n",
    "#Create training data with 2007-2018 data\n",
    "X_train = df0718[[ 'Home_Team_B2B', 'Away_Team_B2B',\n",
    "       'Home_ORTG', 'Away_ORTG',\n",
    "       'Home_DRTG', 'Away_DRTG',\n",
    "       ]]\n",
    "\n",
    "y_train = df0718['Home_Win']\n",
    "\n",
    "\n",
    "#Create Model\n",
    "logmodel = LogisticRegression()\n",
    "logmodel.fit(X_train, y_train)\n",
    "\n",
    "\n",
    "predictions_log = logmodel.predict(X_test)\n",
    "print(classification_report(y_test, predictions_log))\n",
    "print(confusion_matrix(y_test, predictions_log))"
   ]
  },
  {
   "cell_type": "code",
   "execution_count": 6,
   "id": "bb829de1",
   "metadata": {
    "scrolled": true
   },
   "outputs": [
    {
     "name": "stdout",
     "output_type": "stream",
     "text": [
      "              precision    recall  f1-score   support\n",
      "\n",
      "           0       0.66      0.44      0.53       492\n",
      "           1       0.63      0.81      0.71       583\n",
      "\n",
      "    accuracy                           0.64      1075\n",
      "   macro avg       0.64      0.62      0.62      1075\n",
      "weighted avg       0.64      0.64      0.63      1075\n",
      "\n",
      "[[217 275]\n",
      " [113 470]]\n"
     ]
    }
   ],
   "source": [
    "#Test on 2021 Data set\n",
    "test2021 = pd.read_csv(\"2021GameLogsForModel.csv\", index_col = 0)\n",
    "\n",
    "\n",
    "#Create test data with 2021 data\n",
    "X_test = test2021[[ 'Home_Team_B2B', 'Away_Team_B2B',\n",
    "       'Home_ORTG', 'Away_ORTG',\n",
    "       'Home_DRTG', 'Away_DRTG',\n",
    "       ]]\n",
    "\n",
    "y_test = test2021[\"Home_Win\"]\n",
    "\n",
    "\n",
    "#Create training data with 2007-2018 data\n",
    "X_train = df0720[[ 'Home_Team_B2B', 'Away_Team_B2B',\n",
    "       'Home_ORTG', 'Away_ORTG',\n",
    "       'Home_DRTG', 'Away_DRTG',\n",
    "       ]]\n",
    "\n",
    "y_train = df0720['Home_Win']\n",
    "\n",
    "\n",
    "#Create Model\n",
    "logmodel = LogisticRegression(max_iter = 100)\n",
    "logmodel.fit(X_train, y_train)\n",
    "\n",
    "\n",
    "predictions_log = logmodel.predict(X_test)\n",
    "print(classification_report(y_test, predictions_log))\n",
    "print(confusion_matrix(y_test, predictions_log))"
   ]
  },
  {
   "cell_type": "code",
   "execution_count": null,
   "id": "882d0b62",
   "metadata": {},
   "outputs": [],
   "source": []
  }
 ],
 "metadata": {
  "kernelspec": {
   "display_name": "Python 3 (ipykernel)",
   "language": "python",
   "name": "python3"
  },
  "language_info": {
   "codemirror_mode": {
    "name": "ipython",
    "version": 3
   },
   "file_extension": ".py",
   "mimetype": "text/x-python",
   "name": "python",
   "nbconvert_exporter": "python",
   "pygments_lexer": "ipython3",
   "version": "3.9.7"
  }
 },
 "nbformat": 4,
 "nbformat_minor": 5
}
