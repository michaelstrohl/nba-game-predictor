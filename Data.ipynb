{
 "cells": [
  {
   "cell_type": "code",
   "execution_count": null,
   "id": "0784124e",
   "metadata": {},
   "outputs": [],
   "source": [
    "from nba_api.stats.endpoints import teamgamelog\n",
    "from nba_api.stats.static import teams\n",
    "from nba_api.stats.endpoints import boxscoreadvancedv2\n",
    "\n",
    "from time import sleep\n",
    "import datetime\n",
    "\n",
    "import pandas as pd\n",
    "import numpy as np"
   ]
  },
  {
   "cell_type": "code",
   "execution_count": null,
   "id": "08d020ad",
   "metadata": {},
   "outputs": [],
   "source": [
    "team_dict = teams.get_teams()"
   ]
  },
  {
   "cell_type": "code",
   "execution_count": null,
   "id": "1687a92e",
   "metadata": {},
   "outputs": [],
   "source": [
    "df = pd.DataFrame()\n",
    "for season in range(2007,2022): \n",
    "    print(season)\n",
    "    for team in team_dict:\n",
    "        #print(team[\"full_name\"])\n",
    "        gamelogobj = teamgamelog.TeamGameLog(team_id = str(team[\"id\"]), season = season)\n",
    "        gamelogdf = gamelogobj.get_data_frames()[0]\n",
    "        df = pd.concat([df, gamelogdf])\n",
    "        sleep(.600) #Need to pause between loops so no timeout occurs"
   ]
  },
  {
   "cell_type": "code",
   "execution_count": null,
   "id": "6a280404",
   "metadata": {},
   "outputs": [],
   "source": [
    "games = df[\"Game_ID\"].unique()\n",
    "adv_df = pd.DataFrame()\n",
    "i = 0\n",
    "game_errors = []\n",
    "for game in games:\n",
    "    if i %100 == 0:\n",
    "        print(i)\n",
    "    i+= 1\n",
    "    try:\n",
    "        \n",
    "        bsa = boxscoreadvancedv2.BoxScoreAdvancedV2(game_id = str(game))\n",
    "        bsadf = bsa.get_data_frames()[1]\n",
    "        adv_df = pd.concat([adv_df,bsadf])\n",
    "    except:\n",
    "        print(\"ERROR:      \" + str(i-1) + \"     game: 00\" + str(game)) #If there is an error, print out which game caused it\n",
    "        game_errors.append(str(game))\n",
    "    sleep(.7)"
   ]
  },
  {
   "cell_type": "code",
   "execution_count": null,
   "id": "d714c448",
   "metadata": {},
   "outputs": [],
   "source": [
    "#If there are errors, run code again to add the missing games\n",
    "\n",
    "for game in game_errors:\n",
    "    try:       \n",
    "        bsa = boxscoreadvancedv2.BoxScoreAdvancedV2(game_id = str(game))\n",
    "        bsadf = bsa.get_data_frames()[1]\n",
    "        adv_df = pd.concat([adv_df,bsadf])\n",
    "    except:\n",
    "        print(\"ERROR:      \" + str(i-1) + \"     game: 00\" + str(game)) #If there is an error, print out which game caused it\n",
    "    sleep(.7)"
   ]
  },
  {
   "cell_type": "code",
   "execution_count": null,
   "id": "a630644d",
   "metadata": {},
   "outputs": [],
   "source": [
    "df = df.reset_index()\n",
    "df.rename(columns = {'index': \"GAMES_LEFT\"}, inplace = True)"
   ]
  },
  {
   "cell_type": "code",
   "execution_count": null,
   "id": "4c145ca2",
   "metadata": {},
   "outputs": [],
   "source": [
    "#Add identifying features \n",
    "\n",
    "df[\"SEASON\"] = df[\"Game_ID\"].apply(lambda x: str(x)[3:5])\n",
    "df[\"Home\"] = df.MATCHUP.apply(lambda x: 0 if x.__contains__('@') else 1)\n",
    "df[\"Team\"] = df.MATCHUP.apply(lambda x: x.split(\" \")[0])\n",
    "df[\"Opp\"] = df.MATCHUP.apply(lambda x: x.split(\" \")[2])"
   ]
  },
  {
   "cell_type": "code",
   "execution_count": null,
   "id": "562530d3",
   "metadata": {},
   "outputs": [],
   "source": [
    "#Sum all values from previous games for that particular team in that specific season\n",
    "\n",
    "#Values they had\n",
    "df[\"FGMiss\"] = df[[\"FGA\", \"FGM\"]].apply(lambda x: x[\"FGA\"] - x[\"FGM\"], axis =1)\n",
    "df[\"Tot_Prev_Points\"]= df[[\"Game_ID\", \"SEASON\", \"Team_ID\"]].apply(lambda x: df.loc[(df[\"Game_ID\"] < x[\"Game_ID\"]) & (df[\"SEASON\"] == x[\"SEASON\"]) & (df[\"Team_ID\"] ==x[\"Team_ID\"]), \"PTS\"].sum(), axis = 1)\n",
    "df[\"Tot_Prev_Ast\"] = df[[\"Game_ID\", \"SEASON\", \"Team\"]].apply(lambda x: df.loc[(df[\"Game_ID\"] < x[\"Game_ID\"]) & (df[\"SEASON\"] == x[\"SEASON\"]) & (df[\"Team\"] ==x[\"Team\"]), \"AST\"].sum(), axis = 1)\n",
    "df[\"Tot_OREB\"] = df[[\"Game_ID\", \"SEASON\", \"Team_ID\"]].apply(lambda x: df.loc[(df[\"Game_ID\"] < x[\"Game_ID\"]) & (df[\"SEASON\"] == x[\"SEASON\"]) & (df[\"Team_ID\"] ==x[\"Team_ID\"]), \"OREB\"].sum(), axis = 1)\n",
    "df[\"Tot_TOV\"] = df[[\"Game_ID\", \"SEASON\", \"Team_ID\"]].apply(lambda x: df.loc[(df[\"Game_ID\"] < x[\"Game_ID\"]) & (df[\"SEASON\"] == x[\"SEASON\"]) & (df[\"Team_ID\"] ==x[\"Team_ID\"]), \"TOV\"].sum(), axis = 1)\n",
    "df[\"Tot_FGMiss\"] = df[[\"Game_ID\", \"SEASON\", \"Team_ID\"]].apply(lambda x: df.loc[(df[\"Game_ID\"] < x[\"Game_ID\"]) & (df[\"SEASON\"] == x[\"SEASON\"]) & (df[\"Team_ID\"] ==x[\"Team_ID\"]), \"FGMiss\"].sum(), axis = 1)\n",
    "df[\"Tot_FGMade\"] = df[[\"Game_ID\", \"SEASON\", \"Team_ID\"]].apply(lambda x: df.loc[(df[\"Game_ID\"] < x[\"Game_ID\"]) & (df[\"SEASON\"] == x[\"SEASON\"]) & (df[\"Team_ID\"] ==x[\"Team_ID\"]), \"FGM\"].sum(), axis = 1)\n",
    "df[\"Tot_FGA\"] = df[[\"Game_ID\", \"SEASON\", \"Team_ID\"]].apply(lambda x: df.loc[(df[\"Game_ID\"] < x[\"Game_ID\"]) & (df[\"SEASON\"] == x[\"SEASON\"]) & (df[\"Team_ID\"] ==x[\"Team_ID\"]), \"FGA\"].sum(), axis = 1)\n",
    "df[\"Tot_FTM\"] = df[[\"Game_ID\", \"SEASON\", \"Team_ID\"]].apply(lambda x: df.loc[(df[\"Game_ID\"] < x[\"Game_ID\"]) & (df[\"SEASON\"] == x[\"SEASON\"]) & (df[\"Team_ID\"] ==x[\"Team_ID\"]), \"FTM\"].sum(), axis = 1)\n",
    "df[\"Tot_FTA\"] = df[[\"Game_ID\", \"SEASON\", \"Team_ID\"]].apply(lambda x: df.loc[(df[\"Game_ID\"] < x[\"Game_ID\"]) & (df[\"SEASON\"] == x[\"SEASON\"]) & (df[\"Team_ID\"] ==x[\"Team_ID\"]), \"FTA\"].sum(), axis = 1)"
   ]
  },
  {
   "cell_type": "code",
   "execution_count": null,
   "id": "dcd9f07d",
   "metadata": {},
   "outputs": [],
   "source": [
    "#Add the values the team gave up in the game to each row\n",
    "\n",
    "df[\"Opp_PTS\"] = df[[\"Game_ID\", \"SEASON\", \"Team\"]].apply(lambda x: df.loc[(df[\"Game_ID\"] == x[\"Game_ID\"]) & (df[\"SEASON\"] == x[\"SEASON\"]) & (df[\"Opp\"] ==x[\"Team\"]), \"PTS\"].sum(), axis = 1)\n",
    "df[\"Opp_OREB\"] = df[[\"Game_ID\", \"SEASON\", \"Team\"]].apply(lambda x: df.loc[(df[\"Game_ID\"] == x[\"Game_ID\"]) & (df[\"SEASON\"] == x[\"SEASON\"]) & (df[\"Opp\"] ==x[\"Team\"]), \"OREB\"].sum(), axis = 1)\n",
    "df[\"Opp_DREB\"] = df[[\"Game_ID\", \"SEASON\", \"Team\"]].apply(lambda x: df.loc[(df[\"Game_ID\"] == x[\"Game_ID\"]) & (df[\"SEASON\"] == x[\"SEASON\"]) & (df[\"Opp\"] ==x[\"Team\"]), \"DREB\"].sum(), axis = 1)                                                     \n",
    "df[\"Opp_FGMiss\"] = df[[\"Game_ID\", \"SEASON\", \"Team\"]].apply(lambda x: df.loc[(df[\"Game_ID\"] == x[\"Game_ID\"]) & (df[\"SEASON\"] == x[\"SEASON\"]) & (df[\"Opp\"] ==x[\"Team\"]), \"FGMiss\"].sum(), axis = 1)\n",
    "df[\"Opp_FGMade\"] = df[[\"Game_ID\", \"SEASON\", \"Team\"]].apply(lambda x: df.loc[(df[\"Game_ID\"] == x[\"Game_ID\"]) & (df[\"SEASON\"] == x[\"SEASON\"]) & (df[\"Opp\"] ==x[\"Team\"]), \"FGM\"].sum(), axis = 1)\n",
    "df[\"Opp_TOV\"] = df[[\"Game_ID\", \"SEASON\", \"Team\"]].apply(lambda x: df.loc[(df[\"Game_ID\"] == x[\"Game_ID\"]) & (df[\"SEASON\"] == x[\"SEASON\"]) & (df[\"Opp\"] ==x[\"Team\"]), \"TOV\"].sum(), axis = 1)\n",
    "df[\"Opp_AST\"] = df[[\"Game_ID\", \"SEASON\", \"Team\"]].apply(lambda x: df.loc[(df[\"Game_ID\"] == x[\"Game_ID\"]) & (df[\"SEASON\"] == x[\"SEASON\"]) & (df[\"Opp\"] ==x[\"Team\"]), \"AST\"].sum(), axis = 1)\n",
    "df[\"Opp_FG3M\"] = df[[\"Game_ID\", \"SEASON\", \"Team\"]].apply(lambda x: df.loc[(df[\"Game_ID\"] == x[\"Game_ID\"]) & (df[\"SEASON\"] == x[\"SEASON\"]) & (df[\"Opp\"] ==x[\"Team\"]), \"FG3M\"].sum(), axis = 1)\n",
    "df[\"Opp_FGA\"] = df[[\"Game_ID\", \"SEASON\", \"Team\"]].apply(lambda x: df.loc[(df[\"Game_ID\"] == x[\"Game_ID\"]) & (df[\"SEASON\"] == x[\"SEASON\"]) & (df[\"Opp\"] ==x[\"Team\"]), \"FGA\"].sum(), axis = 1)                                                        \n",
    "df[\"Opp_FTA\"] = df[[\"Game_ID\", \"SEASON\", \"Team\"]].apply(lambda x: df.loc[(df[\"Game_ID\"] == x[\"Game_ID\"]) & (df[\"SEASON\"] == x[\"SEASON\"]) & (df[\"Opp\"] ==x[\"Team\"]), \"FTA\"].sum(), axis = 1)                                                        \n"
   ]
  },
  {
   "cell_type": "code",
   "execution_count": null,
   "id": "4a0ff596",
   "metadata": {},
   "outputs": [],
   "source": [
    "#Sum the total values a team allowed\n",
    "\n",
    "df[\"Tot_Opp_Prev_Points\"]= df[[\"Game_ID\", \"SEASON\", \"Team\"]].apply(lambda x: df.loc[(df[\"Game_ID\"] < x[\"Game_ID\"]) & (df[\"SEASON\"] == x[\"SEASON\"]) & (df[\"Opp\"] ==x[\"Team\"]), \"PTS\"].sum(), axis = 1)\n",
    "df[\"Tot_Opp_OREB\"] = df[[\"Game_ID\", \"SEASON\", \"Team\"]].apply(lambda x: df.loc[(df[\"Game_ID\"] < x[\"Game_ID\"]) & (df[\"SEASON\"] == x[\"SEASON\"]) & (df[\"Opp\"] ==x[\"Team\"]), \"OREB\"].sum(), axis = 1)\n",
    "df[\"Tot_Opp_FGMiss\"] = df[[\"Game_ID\", \"SEASON\", \"Team\"]].apply(lambda x: df.loc[(df[\"Game_ID\"] < x[\"Game_ID\"]) & (df[\"SEASON\"] == x[\"SEASON\"]) & (df[\"Opp\"] ==x[\"Team\"]), \"FGMiss\"].sum(), axis = 1)\n",
    "df[\"Tot_Opp_FGMade\"] = df[[\"Game_ID\", \"SEASON\", \"Team\"]].apply(lambda x: df.loc[(df[\"Game_ID\"] < x[\"Game_ID\"]) & (df[\"SEASON\"] == x[\"SEASON\"]) & (df[\"Opp\"] ==x[\"Team\"]), \"FGM\"].sum(), axis = 1)\n",
    "df[\"Tot_Opp_TOV\"] = df[[\"Game_ID\", \"SEASON\", \"Team\"]].apply(lambda x: df.loc[(df[\"Game_ID\"] < x[\"Game_ID\"]) & (df[\"SEASON\"] == x[\"SEASON\"]) & (df[\"Opp\"] ==x[\"Team\"]), \"TOV\"].sum(), axis = 1)\n",
    "df[\"Tot_Opp_AST\"] = df[[\"Game_ID\", \"SEASON\", \"Team\"]].apply(lambda x: df.loc[(df[\"Game_ID\"] < x[\"Game_ID\"]) & (df[\"SEASON\"] == x[\"SEASON\"]) & (df[\"Opp\"] ==x[\"Team\"]), \"AST\"].sum(), axis = 1)\n",
    "df[\"Tot_Opp_FGA\"] = df[[\"Game_ID\", \"SEASON\", \"Team\"]].apply(lambda x: df.loc[(df[\"Game_ID\"] < x[\"Game_ID\"]) & (df[\"SEASON\"] == x[\"SEASON\"]) & (df[\"Opp\"] ==x[\"Team\"]), \"FGA\"].sum(), axis = 1)\n",
    "df[\"Tot_Opp_FG3M\"] = df[[\"Game_ID\", \"SEASON\", \"Team\"]].apply(lambda x: df.loc[(df[\"Game_ID\"] < x[\"Game_ID\"]) & (df[\"SEASON\"] == x[\"SEASON\"]) & (df[\"Opp\"] ==x[\"Team\"]), \"FG3M\"].sum(), axis = 1)\n",
    "df[\"Tot_Opp_FTA\"] = df[[\"Game_ID\", \"SEASON\", \"Team\"]].apply(lambda x: df.loc[(df[\"Game_ID\"] < x[\"Game_ID\"]) & (df[\"SEASON\"] == x[\"SEASON\"]) & (df[\"Opp\"] ==x[\"Team\"]), \"FTA\"].sum(), axis = 1)"
   ]
  },
  {
   "cell_type": "code",
   "execution_count": null,
   "id": "ce03de8b",
   "metadata": {},
   "outputs": [],
   "source": [
    "#Create Features to sum previous possesions\n",
    "\n",
    "adv_df[\"SEASON\"] =adv_df[\"GAME_ID\"].apply(lambda x: str(x)[3:5])\n",
    "adv_df[\"OPP_ID\"] = adv_df[[\"GAME_ID\", \"TEAM_ID\"]].apply(lambda x: adv_df.loc[(adv_df[\"GAME_ID\"] == x[\"GAME_ID\"]) & (adv_df[\"TEAM_ID\"] != x[\"TEAM_ID\"]), \"TEAM_ID\"].values[0], axis = 1)\n",
    "adv_df[\"PREV_TOT_POSS\"] = adv_df[[\"TEAM_ID\" , \"GAME_ID\", \"SEASON\"]].apply(lambda x: adv_df.loc[(adv_df[\"TEAM_ID\"] == x[\"TEAM_ID\"]) & (adv_df[\"GAME_ID\"]<x[\"GAME_ID\"]) & (adv_df[\"SEASON\"] == x[\"SEASON\"]), \"POSS\"].sum(), axis = 1)\n",
    "adv_df[\"PREV_OPP_TOT_POSS\"] = adv_df[[\"TEAM_ID\" , \"GAME_ID\", \"SEASON\"]].apply(lambda x: adv_df.loc[(adv_df[\"OPP_ID\"] == x.TEAM_ID) & (adv_df[\"GAME_ID\"]<x[\"GAME_ID\"]) & (adv_df[\"SEASON\"] == x[\"SEASON\"]), \"POSS\"].sum(), axis = 1)  "
   ]
  },
  {
   "cell_type": "code",
   "execution_count": null,
   "id": "e156a87c",
   "metadata": {},
   "outputs": [],
   "source": [
    "#Copy over values into main dataframe\n",
    "\n",
    "df[\"Poss\"] = df[[\"Game_ID\", \"Team_ID\"]].apply(lambda x: adv_df.loc[(adv_df[\"GAME_ID\"] == x[\"Game_ID\"]) & (adv_df[\"TEAM_ID\"] == x[\"Team_ID\"]), \"POSS\"].sum(), axis = 1)\n",
    "df[\"Tot_Prev_Poss\"] = df[[\"Game_ID\", \"Team_ID\"]].apply(lambda x: adv_df.loc[(adv_df[\"GAME_ID\"] == x[\"Game_ID\"]) & (adv_df[\"TEAM_ID\"] == x[\"Team_ID\"]), \"PREV_TOT_POSS\"].sum(), axis = 1)\n",
    "\n",
    "df[\"Opp_Poss\"] = df[[\"Game_ID\", \"Team_ID\"]].apply(lambda x: adv_df.loc[(adv_df[\"GAME_ID\"] == x[\"Game_ID\"]) & (adv_df[\"OPP_ID\"] == x[\"Team_ID\"]), \"POSS\"].sum(), axis = 1)\n",
    "df[\"Tot_Opp_Prev_Poss\"] = df[[\"Game_ID\", \"Team_ID\"]].apply(lambda x: adv_df.loc[(adv_df[\"GAME_ID\"] == x[\"Game_ID\"]) & (adv_df[\"TEAM_ID\"] == x[\"Team_ID\"]), \"PREV_OPP_TOT_POSS\"].sum(), axis = 1)"
   ]
  },
  {
   "cell_type": "code",
   "execution_count": null,
   "id": "fb567cdf",
   "metadata": {},
   "outputs": [],
   "source": [
    "#Calculate the rating values\n",
    "\n",
    "#Values they had\n",
    "df[\"ORTG\"] = df[[\"Tot_Prev_Poss\", \"Tot_Prev_Points\"]].apply(lambda x: x[\"Tot_Prev_Points\"] / x[\"Tot_Prev_Poss\"] * 100, axis = 1)\n",
    "df[\"OREBRTG\"] = df[[\"Tot_FGMiss\", \"Tot_OREB\"]].apply(lambda x: x[\"Tot_OREB\"] / x[\"Tot_FGMiss\"] * 100, axis = 1)\n",
    "df[\"TOVRTG\"] = df[[\"Tot_Prev_Poss\", \"Tot_TOV\"]].apply(lambda x: x[\"Tot_TOV\"] / x[\"Tot_Prev_Poss\"] * 100, axis = 1)\n",
    "df[\"ASTRTG\"] = df[[\"Tot_FGMade\", \"Tot_Prev_Ast\"]].apply(lambda x: x[\"Tot_Prev_Ast\"] / x[\"Tot_FGMade\"] *100 , axis = 1)\n",
    "\n",
    "#Values they allowed\n",
    "df[\"DRTG\"] = df[[\"Tot_Opp_Prev_Poss\", \"Tot_Opp_Prev_Points\"]].apply(lambda x: x[\"Tot_Opp_Prev_Points\"] / x[\"Tot_Opp_Prev_Poss\"] * 100, axis = 1)\n",
    "df[\"DTOVRTG\"] = df[[\"Tot_Opp_Prev_Poss\", \"Tot_Opp_TOV\"]].apply(lambda x: x[\"Tot_Opp_TOV\"] / x[\"Tot_Opp_Prev_Poss\"] * 100, axis = 1)\n",
    "df[\"DREBRTG\"] = df[[\"Tot_Opp_FGMiss\", \"Tot_Opp_OREB\"]].apply(lambda x: x[\"Tot_Opp_OREB\"] / x[\"Tot_Opp_FGMiss\"] * 100, axis = 1)\n",
    "df[\"DASTRTG\"] = df[[\"Tot_Opp_FGMade\", \"Tot_Opp_AST\"]].apply(lambda x: x[\"Tot_Opp_AST\"] / x[\"Tot_Opp_FGMade\"] * 100, axis = 1)"
   ]
  },
  {
   "cell_type": "code",
   "execution_count": null,
   "id": "9c4b6ecb",
   "metadata": {},
   "outputs": [],
   "source": [
    "#Verify Values\n",
    "\n",
    "df[(df[\"SEASON\"] == \"21\") & (df[\"GAMES_LEFT\"] == 0)][[\"Team\",\"Opp\", \"Poss\", \"Tot_Prev_Poss\", \"Tot_Prev_Points\", \"PTS\", \"ORTG\"]]"
   ]
  },
  {
   "cell_type": "code",
   "execution_count": null,
   "id": "7bdc3a5c",
   "metadata": {},
   "outputs": [],
   "source": [
    "#All null values are due to first game of season, therefore set those values as 0\n",
    "\n",
    "df=df.fillna(0)"
   ]
  },
  {
   "cell_type": "code",
   "execution_count": null,
   "id": "affc22fd",
   "metadata": {},
   "outputs": [],
   "source": [
    "#Split all values into home and away to prepare for grouping\n",
    "#If a team is the home team, set home team values as the team's values else set as 0\n",
    "#If a team is the away team, set away team values as the team's values else set as 0\n",
    "\n",
    "df['Home_ORTG'] = df[[\"Home\", \"ORTG\"]].apply(lambda x: x[\"ORTG\"] if x[\"Home\"] == 1 else 0, axis = 1)\n",
    "df['Away_ORTG'] = df[[\"Home\", \"ORTG\"]].apply(lambda x: x[\"ORTG\"] if x[\"Home\"] == 0 else 0, axis = 1)\n",
    "df['Home_DRTG'] = df[[\"Home\", \"DRTG\"]].apply(lambda x: x[\"DRTG\"] if x[\"Home\"] == 1 else 0, axis = 1)\n",
    "df['Away_DRTG'] = df[[\"Home\", \"DRTG\"]].apply(lambda x: x[\"DRTG\"] if x[\"Home\"] == 0 else 0, axis = 1)\n",
    "df['Home_OREBRTG'] = df[[\"Home\", \"OREBRTG\"]].apply(lambda x: x[\"OREBRTG\"] if x[\"Home\"] == 1 else 0, axis = 1)\n",
    "df['Away_OREBRTG'] = df[[\"Home\", \"OREBRTG\"]].apply(lambda x: x[\"OREBRTG\"] if x[\"Home\"] == 0 else 0, axis = 1)\n",
    "df['Home_DREBRTG'] = df[[\"Home\", \"DREBRTG\"]].apply(lambda x: x[\"DREBRTG\"] if x[\"Home\"] == 1 else 0, axis = 1)\n",
    "df['Away_DREBRTG'] = df[[\"Home\", \"DREBRTG\"]].apply(lambda x: x[\"DREBRTG\"] if x[\"Home\"] == 0 else 0, axis = 1)\n",
    "df['Home_TOVRTG'] = df[[\"Home\", \"TOVRTG\"]].apply(lambda x: x[\"TOVRTG\"] if x[\"Home\"] == 1 else 0, axis = 1)\n",
    "df['Away_TOVRTG'] = df[[\"Home\", \"TOVRTG\"]].apply(lambda x: x[\"TOVRTG\"] if x[\"Home\"] == 0 else 0, axis = 1)\n",
    "df['Home_DTOVRTG'] = df[[\"Home\", \"DTOVRTG\"]].apply(lambda x: x[\"DTOVRTG\"] if x[\"Home\"] == 1 else 0, axis = 1)\n",
    "df['Away_DTOVRTG'] = df[[\"Home\", \"DTOVRTG\"]].apply(lambda x: x[\"DTOVRTG\"] if x[\"Home\"] == 0 else 0, axis = 1)\n",
    "df['Home_ASTRTG'] = df[[\"Home\", \"ASTRTG\"]].apply(lambda x: x[\"ASTRTG\"] if x[\"Home\"] == 1 else 0, axis = 1)\n",
    "df['Away_ASTRTG'] = df[[\"Home\", \"ASTRTG\"]].apply(lambda x: x[\"ASTRTG\"] if x[\"Home\"] == 0 else 0, axis = 1)\n",
    "df[\"Home_Team\"] = df[[\"Home\", \"Team\", \"Opp\"]].apply(lambda x: x[\"Team\"] if x[\"Home\"] == 1 else x[\"Opp\"], axis = 1)\n",
    "df[\"Away_Team\"] = df[[\"Home\", \"Team\", \"Opp\"]].apply(lambda x: x[\"Team\"] if x[\"Home\"] == 0 else x[\"Opp\"], axis = 1)\n",
    "df['Home_DASTRTG'] = df[[\"Home\", \"DASTRTG\"]].apply(lambda x: x[\"DASTRTG\"] if x[\"Home\"] == 1 else 0, axis = 1)\n",
    "df['Away_DASTRTG'] = df[[\"Home\", \"DASTRTG\"]].apply(lambda x: x[\"DASTRTG\"] if x[\"Home\"] == 0 else 0, axis = 1)"
   ]
  },
  {
   "cell_type": "code",
   "execution_count": null,
   "id": "555276a1",
   "metadata": {},
   "outputs": [],
   "source": [
    "#Point spread for each game\n",
    "\n",
    "df[\"Spread\"] = df[[\"Home\", \"PTS\"]].apply(lambda x: -x[\"PTS\"] if x[\"Home\"] == 0 else x[\"PTS\"], axis = 1)"
   ]
  },
  {
   "cell_type": "code",
   "execution_count": null,
   "id": "d1582e8d",
   "metadata": {},
   "outputs": [],
   "source": [
    "#Whether the home team won (1) or lost (0)\n",
    "\n",
    "df[\"Home_Win\"] = df[[\"WL\", \"Home\"]].apply(lambda x: 1 if ((x[\"Home\"] == 1) & (x[\"WL\"] == \"W\")) else 0, axis = 1)"
   ]
  },
  {
   "cell_type": "code",
   "execution_count": null,
   "id": "d055ff46",
   "metadata": {},
   "outputs": [],
   "source": [
    "#Calculating whether the team played the day before\n",
    "\n",
    "df[\"GAME_DATE\"] = df[\"GAME_DATE\"].apply(lambda x: datetime.datetime.strptime(x,\"%b %d, %Y\"))\n",
    "df[\"Back_To_Back\"] = df[[\"GAME_DATE\", \"Team_ID\"]].apply(lambda x: 1 if (x[\"GAME_DATE\"] - datetime.timedelta(1)) in df.loc[(df[\"Team_ID\"] == x[\"Team_ID\"]), \"GAME_DATE\"].values else 0, axis = 1)\n",
    "df[\"Home_Team_B2B\"] = df[[\"Back_To_Back\", \"Home\"]].apply(lambda x: 1 if (x[\"Back_To_Back\"] == 1) & (x[\"Home\"] == 1) else 0, axis =1 )\n",
    "df[\"Away_Team_B2B\"] = df[[\"Back_To_Back\", \"Home\"]].apply(lambda x: 1 if (x[\"Back_To_Back\"] == 1) & (x[\"Home\"] == 0) else 0, axis =1 )"
   ]
  },
  {
   "cell_type": "code",
   "execution_count": null,
   "id": "5873e484",
   "metadata": {},
   "outputs": [],
   "source": [
    "#Group by game ID and sum all values\n",
    "\n",
    "grouped_df = df.groupby(by = [\"Game_ID\", \"Home_Team\", \"Away_Team\"]).sum()"
   ]
  },
  {
   "cell_type": "code",
   "execution_count": null,
   "id": "7268b2ff",
   "metadata": {},
   "outputs": [],
   "source": [
    "#Drop All unnecessary columns \n",
    "\n",
    "drop = [\"Team_ID\", \"W\", \"L\", \"W_PCT\", \"MIN\", \"FGM\", \"FGA\", \"FG_PCT\", \"FG3M\", \"FG3A\", \"FG3_PCT\", \n",
    "        \"FTM\", \"FTA\", \"FT_PCT\", \"REB\", \"OREB\", \"DREB\",\n",
    "        \"AST\", \"STL\", \"BLK\",\"TOV\", \"PF\", \"PTS\", \"Home\", \"Tot_Prev_Poss\", \"Back_To_Back\",\n",
    "        \"Tot_Prev_Points\", \"Tot_Opp_Prev_Points\", \"ORTG\", \"Tot_Opp_Prev_Poss\", \"DRTG\", \"Tot_OREB\", \n",
    "        \"Tot_Opp_OREB\",\"OREBRTG\", \"FGMiss\", \"Tot_FGMiss\",\n",
    "        \"Tot_Opp_FGMiss\", \"DREBRTG\",\"Tot_TOV\", \"Tot_Opp_TOV\",\n",
    "        \"TOVRTG\", \"DTOVRTG\", \"Tot_Prev_Ast\", \"Tot_FGMade\", \"ASTRTG\",\n",
    "        'Opp_PTS', 'Opp_OREB', 'Tot_FGA', 'Tot_FTM', 'Tot_FTA',\n",
    "        'Opp_FGMiss', 'Opp_FGMade', 'Opp_TOV', 'Opp_AST', 'Opp_FG3M', 'Opp_FGA',\n",
    "        'Tot_Opp_FGMade', 'Tot_Opp_AST', 'Tot_Opp_FGA', 'Tot_Opp_FG3M',\n",
    "        'Tot_Opp_FTA', 'Opp_FTA', 'Poss', 'Opp_DREB', 'Opp_Poss', 'DASTRTG']\n",
    "\n",
    "test_df = grouped_df.drop([], axis = 1)"
   ]
  },
  {
   "cell_type": "code",
   "execution_count": null,
   "id": "782d14a8",
   "metadata": {},
   "outputs": [],
   "source": [
    "test_df.reset_index(inplace = True)\n",
    "\n",
    "test_df[\"Season\"] = test_df[\"Game_ID\"].apply(lambda x: str(x)[3:5])"
   ]
  },
  {
   "cell_type": "code",
   "execution_count": null,
   "id": "af886f82",
   "metadata": {},
   "outputs": [],
   "source": [
    "#Save complete data\n",
    "test_df.to_csv(\"DataForNBAGameModelComplete.csv\")"
   ]
  },
  {
   "cell_type": "code",
   "execution_count": null,
   "id": "57b649d2",
   "metadata": {},
   "outputs": [],
   "source": [
    "#Create and save data excluding 2021 season and games where the teams haven't combined for 20 games played for the season\n",
    "slimmed_df = test_df[(test_df[\"GAMES_LEFT\"] < 143) & (test_df[\"Season\"] != \"21\")]\n",
    "\n",
    "slimmed_df.to_csv(\"DataForNBAGameModel0720.csv\")"
   ]
  },
  {
   "cell_type": "code",
   "execution_count": null,
   "id": "7e4443ec",
   "metadata": {},
   "outputs": [],
   "source": [
    "#Create and save data excluding 2019-2021 seasons and games where the teams haven't combined for 20 games played for the season\n",
    "slimmed_df0718 =  test_df[(test_df[\"GAMES_LEFT\"] < 143) & \n",
    "                          (test_df[\"Season\"] != \"21\") & \n",
    "                          (test_df[\"Season\"] != \"20\") & \n",
    "                          (test_df[\"Season\"] != \"19\")]\n",
    "\n",
    "slimmed_df0718.to_csv(\"DataForNBAGameModel0718.csv\")"
   ]
  },
  {
   "cell_type": "code",
   "execution_count": null,
   "id": "62fbc934",
   "metadata": {},
   "outputs": [],
   "source": [
    "#Save data for just 2021 season\n",
    "season21 = test[test_df[\"Season\"] == \"21\"]\n",
    "\n",
    "season21.to_csv(\"2021GameLogsForModel.csv\")"
   ]
  }
 ],
 "metadata": {
  "kernelspec": {
   "display_name": "Python 3 (ipykernel)",
   "language": "python",
   "name": "python3"
  },
  "language_info": {
   "codemirror_mode": {
    "name": "ipython",
    "version": 3
   },
   "file_extension": ".py",
   "mimetype": "text/x-python",
   "name": "python",
   "nbconvert_exporter": "python",
   "pygments_lexer": "ipython3",
   "version": "3.9.7"
  }
 },
 "nbformat": 4,
 "nbformat_minor": 5
}
